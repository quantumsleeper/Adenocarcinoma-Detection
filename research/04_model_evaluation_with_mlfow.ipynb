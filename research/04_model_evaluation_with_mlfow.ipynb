{
 "cells": [
  {
   "cell_type": "code",
   "execution_count": 1,
   "metadata": {},
   "outputs": [
    {
     "name": "stdout",
     "output_type": "stream",
     "text": [
      "/Users/debarchan/PycharmProjects/Adenocarcinoma-Detection/research\n",
      "/Users/debarchan/PycharmProjects/Adenocarcinoma-Detection\n"
     ]
    }
   ],
   "source": [
    "import os \n",
    "!pwd\n",
    "os.chdir(\"../\")\n",
    "!pwd"
   ]
  },
  {
   "cell_type": "code",
   "execution_count": 2,
   "metadata": {},
   "outputs": [
    {
     "name": "stderr",
     "output_type": "stream",
     "text": [
      "2024-06-08 22:27:35.818295: I tensorflow/core/platform/cpu_feature_guard.cc:182] This TensorFlow binary is optimized to use available CPU instructions in performance-critical operations.\n",
      "To enable the following instructions: AVX2 FMA, in other operations, rebuild TensorFlow with the appropriate compiler flags.\n"
     ]
    }
   ],
   "source": [
    "import tensorflow as tf \n",
    "import dagshub\n",
    "import mlflow"
   ]
  },
  {
   "cell_type": "code",
   "execution_count": 3,
   "metadata": {},
   "outputs": [],
   "source": [
    "model = tf.keras.models.load_model('artifacts/training/model.h5')"
   ]
  },
  {
   "cell_type": "code",
   "execution_count": 4,
   "metadata": {},
   "outputs": [],
   "source": [
    "from dataclasses import dataclass\n",
    "from pathlib import Path\n",
    "\n",
    "\n",
    "@dataclass(frozen=True)\n",
    "class EvaluationConfig:\n",
    "    path_of_model: Path\n",
    "    training_data: Path\n",
    "    validation_data: Path\n",
    "    testing_data: Path\n",
    "    all_params: dict\n",
    "    params_image_size: list\n",
    "    params_batch_size: int"
   ]
  },
  {
   "cell_type": "code",
   "execution_count": 5,
   "metadata": {},
   "outputs": [],
   "source": [
    "from carcinomaDetection.constants import *\n",
    "from carcinomaDetection.utils.common import read_yaml, create_directories, save_json"
   ]
  },
  {
   "cell_type": "code",
   "execution_count": 6,
   "metadata": {},
   "outputs": [],
   "source": [
    "class ConfigurationManager:\n",
    "    def __init__(self,\n",
    "                 config_filepath = CONFIG_FILE_PATH,\n",
    "                 params_filepath = PARAMS_FILE_PATH):\n",
    "        \n",
    "        self.config = read_yaml(config_filepath)\n",
    "        self.params = read_yaml(params_filepath)\n",
    "        \n",
    "        create_directories([self.config.artifacts_root])\n",
    "\n",
    "    def get_evaluation_config(self) -> EvaluationConfig:\n",
    "        \n",
    "        evaluation_config = EvaluationConfig(\n",
    "            path_of_model=\"artifacts/training/model.h5\",\n",
    "            training_data=\"artifacts/data_ingestion/Data/train\",\n",
    "            validation_data=\"artifacts/data_ingestion/Data/valid\",\n",
    "            testing_data=\"artifacts/data_ingestion/Data/test\",\n",
    "            all_params=self.params,\n",
    "            params_image_size=self.params.IMAGE_SIZE,\n",
    "            params_batch_size=self.params.BATCH_SIZE\n",
    "        )\n",
    "\n",
    "        return evaluation_config"
   ]
  },
  {
   "cell_type": "code",
   "execution_count": 7,
   "metadata": {},
   "outputs": [],
   "source": [
    "from pathlib import Path\n",
    "import mlflow\n",
    "import mlflow.keras\n",
    "from urllib.parse import urlparse"
   ]
  },
  {
   "cell_type": "code",
   "execution_count": 8,
   "metadata": {},
   "outputs": [],
   "source": [
    "class Evaluation:\n",
    "  def __init__(self, config: EvaluationConfig):\n",
    "    self.config = config\n",
    "\n",
    "  def _valid_generator(self):\n",
    "\n",
    "    datagenerator_kwargs = dict(\n",
    "        rescale = 1./255,\n",
    "    )\n",
    "\n",
    "    dataflow_kwargs = dict(\n",
    "        target_size=self.config.params_image_size[:-1],\n",
    "        batch_size=self.config.params_batch_size,\n",
    "        interpolation=\"bilinear\"\n",
    "    )\n",
    "\n",
    "    valid_datagenerator = tf.keras.preprocessing.image.ImageDataGenerator(\n",
    "        **datagenerator_kwargs\n",
    "    )\n",
    "\n",
    "    self.valid_generator = valid_datagenerator.flow_from_directory(\n",
    "        directory=self.config.testing_data,\n",
    "        shuffle=False,\n",
    "        **dataflow_kwargs\n",
    "    )\n",
    "\n",
    "  @staticmethod\n",
    "  def load_model(path: Path) -> tf.keras.Model:\n",
    "    return tf.keras.models.load_model(path)\n",
    "\n",
    "  def evaluation(self):\n",
    "    self.model = self.load_model(self.config.path_of_model)\n",
    "    self._valid_generator()\n",
    "    self.score = model.evaluate(self.valid_generator)\n",
    "\n",
    "  def save_score(self):\n",
    "    scores = {\"loss\": self.score[0], \"accuracy\": self.score[1]}\n",
    "    save_json(path=Path(\"scores.json\"), data=scores)\n",
    "\n",
    "  def log_into_mlflow(self):\n",
    "    dagshub.init(repo_owner='quantumsleeper', repo_name='Adenocarcinoma-Detection', mlflow=True)\n",
    "\n",
    "    with mlflow.start_run():\n",
    "      mlflow.log_params(self.config.all_params)\n",
    "      mlflow.log_metrics({\"loss\": self.score[0], \"accuracy\": self.score[1]})\n",
    "      \n",
    "      mlflow.keras.log_model(self.model, \"model\", registered_model_name=\"VGG16\")\n"
   ]
  },
  {
   "cell_type": "code",
   "execution_count": 9,
   "metadata": {},
   "outputs": [
    {
     "name": "stdout",
     "output_type": "stream",
     "text": [
      "[2024-06-08 22:27:54,009: INFO: common: yaml file: config/config.yaml loaded successfully!]\n",
      "[2024-06-08 22:27:54,014: INFO: common: yaml file: params.yaml loaded successfully!]\n",
      "[2024-06-08 22:27:54,017: INFO: common: created directory at: artifacts]\n",
      "Found 315 images belonging to 4 classes.\n"
     ]
    },
    {
     "name": "stderr",
     "output_type": "stream",
     "text": [
      "2024-06-08 22:27:55.054182: I tensorflow/core/common_runtime/executor.cc:1197] [/device:CPU:0] (DEBUG INFO) Executor start aborting (this does not indicate an error and you can ignore this message): INVALID_ARGUMENT: You must feed a value for placeholder tensor 'Placeholder/_0' with dtype int32\n",
      "\t [[{{node Placeholder/_0}}]]\n"
     ]
    },
    {
     "name": "stdout",
     "output_type": "stream",
     "text": [
      "20/20 [==============================] - 50s 2s/step - loss: 1.6549 - accuracy: 0.3111\n",
      "[2024-06-08 22:28:45,220: INFO: common: json file saved at: scores.json]\n"
     ]
    },
    {
     "data": {
      "text/html": [
       "<pre style=\"white-space:pre;overflow-x:auto;line-height:normal;font-family:Menlo,'DejaVu Sans Mono',consolas,'Courier New',monospace\">Initialized MLflow to track repo <span style=\"color: #008000; text-decoration-color: #008000\">\"quantumsleeper/Adenocarcinoma-Detection\"</span>\n",
       "</pre>\n"
      ],
      "text/plain": [
       "Initialized MLflow to track repo \u001b[32m\"quantumsleeper/Adenocarcinoma-Detection\"\u001b[0m\n"
      ]
     },
     "metadata": {},
     "output_type": "display_data"
    },
    {
     "name": "stdout",
     "output_type": "stream",
     "text": [
      "[2024-06-08 22:28:48,032: INFO: helpers: Initialized MLflow to track repo \"quantumsleeper/Adenocarcinoma-Detection\"]\n"
     ]
    },
    {
     "data": {
      "text/html": [
       "<pre style=\"white-space:pre;overflow-x:auto;line-height:normal;font-family:Menlo,'DejaVu Sans Mono',consolas,'Courier New',monospace\">Repository quantumsleeper/Adenocarcinoma-Detection initialized!\n",
       "</pre>\n"
      ],
      "text/plain": [
       "Repository quantumsleeper/Adenocarcinoma-Detection initialized!\n"
      ]
     },
     "metadata": {},
     "output_type": "display_data"
    },
    {
     "name": "stdout",
     "output_type": "stream",
     "text": [
      "[2024-06-08 22:28:48,035: INFO: helpers: Repository quantumsleeper/Adenocarcinoma-Detection initialized!]\n"
     ]
    },
    {
     "name": "stderr",
     "output_type": "stream",
     "text": [
      "2024/06/08 22:28:49 WARNING mlflow.tensorflow: You are saving a TensorFlow Core model or Keras model without a signature. Inference with mlflow.pyfunc.spark_udf() will not work unless the model's pyfunc representation accepts pandas DataFrames as inference inputs.\n"
     ]
    },
    {
     "name": "stdout",
     "output_type": "stream",
     "text": [
      "[2024-06-08 22:28:51,547: WARNING: save: Found untraced functions such as _jit_compiled_convolution_op, _jit_compiled_convolution_op, _jit_compiled_convolution_op, _jit_compiled_convolution_op, _jit_compiled_convolution_op while saving (showing 5 of 14). These functions will not be directly callable after loading.]\n",
      "INFO:tensorflow:Assets written to: /var/folders/f1/0g56z6153rv3gh97q2kwzhmh0000gn/T/tmpesqwi1em/model/data/model/assets\n",
      "[2024-06-08 22:28:52,275: INFO: builder_impl: Assets written to: /var/folders/f1/0g56z6153rv3gh97q2kwzhmh0000gn/T/tmpesqwi1em/model/data/model/assets]\n"
     ]
    },
    {
     "name": "stderr",
     "output_type": "stream",
     "text": [
      "/opt/anaconda3/envs/carcinoma/lib/python3.8/site-packages/_distutils_hack/__init__.py:26: UserWarning: Setuptools is replacing distutils.\n",
      "  warnings.warn(\"Setuptools is replacing distutils.\")\n",
      "Registered model 'VGG16' already exists. Creating a new version of this model...\n",
      "2024/06/08 22:29:26 INFO mlflow.tracking._model_registry.client: Waiting up to 300 seconds for model version to finish creation.                     Model name: VGG16, version 2\n",
      "Created version '2' of model 'VGG16'.\n"
     ]
    }
   ],
   "source": [
    "try:\n",
    "  config = ConfigurationManager()\n",
    "  eval_config = config.get_evaluation_config()\n",
    "  evaluation = Evaluation(eval_config)\n",
    "  evaluation.evaluation()\n",
    "  evaluation.save_score()\n",
    "  evaluation.log_into_mlflow()\n",
    "\n",
    "except Exception as e:\n",
    "  raise e"
   ]
  },
  {
   "cell_type": "code",
   "execution_count": null,
   "metadata": {},
   "outputs": [],
   "source": []
  },
  {
   "cell_type": "code",
   "execution_count": null,
   "metadata": {},
   "outputs": [],
   "source": []
  },
  {
   "cell_type": "code",
   "execution_count": null,
   "metadata": {},
   "outputs": [],
   "source": []
  }
 ],
 "metadata": {
  "kernelspec": {
   "display_name": "carcinoma",
   "language": "python",
   "name": "python3"
  },
  "language_info": {
   "codemirror_mode": {
    "name": "ipython",
    "version": 3
   },
   "file_extension": ".py",
   "mimetype": "text/x-python",
   "name": "python",
   "nbconvert_exporter": "python",
   "pygments_lexer": "ipython3",
   "version": "3.8.19"
  }
 },
 "nbformat": 4,
 "nbformat_minor": 2
}
